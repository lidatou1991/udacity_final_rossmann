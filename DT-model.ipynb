{
 "cells": [
  {
   "cell_type": "markdown",
   "metadata": {},
   "source": [
    "# 决策树 Decision Tree 模型"
   ]
  },
  {
   "cell_type": "code",
   "execution_count": 27,
   "metadata": {},
   "outputs": [],
   "source": [
    "#导入库与读取数据\n",
    "\n",
    "import numpy as np\n",
    "import pandas as pd\n",
    "import matplotlib.pyplot as plt\n"
   ]
  },
  {
   "cell_type": "code",
   "execution_count": 2,
   "metadata": {},
   "outputs": [
    {
     "name": "stderr",
     "output_type": "stream",
     "text": [
      "/Users/limao/miniconda3/lib/python3.6/site-packages/IPython/core/interactiveshell.py:2785: DtypeWarning: Columns (7) have mixed types. Specify dtype option on import or set low_memory=False.\n",
      "  interactivity=interactivity, compiler=compiler, result=result)\n"
     ]
    }
   ],
   "source": [
    "#读取数据\n",
    "train = pd.read_csv(\"inputs/train.csv\")\n",
    "test = pd.read_csv(\"inputs/test.csv\")\n",
    "store = pd.read_csv(\"inputs/store.csv\")"
   ]
  },
  {
   "cell_type": "code",
   "execution_count": 7,
   "metadata": {},
   "outputs": [],
   "source": [
    "#在EDA基础上，处理异常值\n",
    "\n",
    "#train中去除open=1但是sales=0的数据\n",
    "train = train.loc[train['Sales']>0]\n",
    "\n",
    "#train 中StateHoliday 将字符与数字0混淆\n",
    "\n",
    "train.StateHoliday = train.StateHoliday.map({'0':'0',0:'0','a':'a','b':'b','c':'c'})\n",
    "\n",
    "#store中的NaN用0填充\n",
    "store.fillna(0,inplace = True)"
   ]
  },
  {
   "cell_type": "code",
   "execution_count": 8,
   "metadata": {
    "scrolled": true
   },
   "outputs": [
    {
     "data": {
      "text/html": [
       "<div>\n",
       "<style scoped>\n",
       "    .dataframe tbody tr th:only-of-type {\n",
       "        vertical-align: middle;\n",
       "    }\n",
       "\n",
       "    .dataframe tbody tr th {\n",
       "        vertical-align: top;\n",
       "    }\n",
       "\n",
       "    .dataframe thead th {\n",
       "        text-align: right;\n",
       "    }\n",
       "</style>\n",
       "<table border=\"1\" class=\"dataframe\">\n",
       "  <thead>\n",
       "    <tr style=\"text-align: right;\">\n",
       "      <th></th>\n",
       "      <th>Store</th>\n",
       "      <th>DayOfWeek</th>\n",
       "      <th>Date</th>\n",
       "      <th>Sales</th>\n",
       "      <th>Customers</th>\n",
       "      <th>Open</th>\n",
       "      <th>Promo</th>\n",
       "      <th>StateHoliday</th>\n",
       "      <th>SchoolHoliday</th>\n",
       "      <th>StoreType</th>\n",
       "      <th>Assortment</th>\n",
       "      <th>CompetitionDistance</th>\n",
       "      <th>CompetitionOpenSinceMonth</th>\n",
       "      <th>CompetitionOpenSinceYear</th>\n",
       "      <th>Promo2</th>\n",
       "      <th>Promo2SinceWeek</th>\n",
       "      <th>Promo2SinceYear</th>\n",
       "      <th>PromoInterval</th>\n",
       "      <th>SalesPerCustomer</th>\n",
       "    </tr>\n",
       "  </thead>\n",
       "  <tbody>\n",
       "    <tr>\n",
       "      <th>0</th>\n",
       "      <td>1</td>\n",
       "      <td>5</td>\n",
       "      <td>2015-07-31</td>\n",
       "      <td>5263</td>\n",
       "      <td>555</td>\n",
       "      <td>1</td>\n",
       "      <td>1</td>\n",
       "      <td>0</td>\n",
       "      <td>1</td>\n",
       "      <td>c</td>\n",
       "      <td>a</td>\n",
       "      <td>1270.0</td>\n",
       "      <td>9.0</td>\n",
       "      <td>2008.0</td>\n",
       "      <td>0</td>\n",
       "      <td>0.0</td>\n",
       "      <td>0.0</td>\n",
       "      <td>0</td>\n",
       "      <td>9.482883</td>\n",
       "    </tr>\n",
       "    <tr>\n",
       "      <th>1</th>\n",
       "      <td>2</td>\n",
       "      <td>5</td>\n",
       "      <td>2015-07-31</td>\n",
       "      <td>6064</td>\n",
       "      <td>625</td>\n",
       "      <td>1</td>\n",
       "      <td>1</td>\n",
       "      <td>0</td>\n",
       "      <td>1</td>\n",
       "      <td>a</td>\n",
       "      <td>a</td>\n",
       "      <td>570.0</td>\n",
       "      <td>11.0</td>\n",
       "      <td>2007.0</td>\n",
       "      <td>1</td>\n",
       "      <td>13.0</td>\n",
       "      <td>2010.0</td>\n",
       "      <td>Jan,Apr,Jul,Oct</td>\n",
       "      <td>9.702400</td>\n",
       "    </tr>\n",
       "    <tr>\n",
       "      <th>2</th>\n",
       "      <td>3</td>\n",
       "      <td>5</td>\n",
       "      <td>2015-07-31</td>\n",
       "      <td>8314</td>\n",
       "      <td>821</td>\n",
       "      <td>1</td>\n",
       "      <td>1</td>\n",
       "      <td>0</td>\n",
       "      <td>1</td>\n",
       "      <td>a</td>\n",
       "      <td>a</td>\n",
       "      <td>14130.0</td>\n",
       "      <td>12.0</td>\n",
       "      <td>2006.0</td>\n",
       "      <td>1</td>\n",
       "      <td>14.0</td>\n",
       "      <td>2011.0</td>\n",
       "      <td>Jan,Apr,Jul,Oct</td>\n",
       "      <td>10.126675</td>\n",
       "    </tr>\n",
       "    <tr>\n",
       "      <th>3</th>\n",
       "      <td>4</td>\n",
       "      <td>5</td>\n",
       "      <td>2015-07-31</td>\n",
       "      <td>13995</td>\n",
       "      <td>1498</td>\n",
       "      <td>1</td>\n",
       "      <td>1</td>\n",
       "      <td>0</td>\n",
       "      <td>1</td>\n",
       "      <td>c</td>\n",
       "      <td>c</td>\n",
       "      <td>620.0</td>\n",
       "      <td>9.0</td>\n",
       "      <td>2009.0</td>\n",
       "      <td>0</td>\n",
       "      <td>0.0</td>\n",
       "      <td>0.0</td>\n",
       "      <td>0</td>\n",
       "      <td>9.342457</td>\n",
       "    </tr>\n",
       "    <tr>\n",
       "      <th>4</th>\n",
       "      <td>5</td>\n",
       "      <td>5</td>\n",
       "      <td>2015-07-31</td>\n",
       "      <td>4822</td>\n",
       "      <td>559</td>\n",
       "      <td>1</td>\n",
       "      <td>1</td>\n",
       "      <td>0</td>\n",
       "      <td>1</td>\n",
       "      <td>a</td>\n",
       "      <td>a</td>\n",
       "      <td>29910.0</td>\n",
       "      <td>4.0</td>\n",
       "      <td>2015.0</td>\n",
       "      <td>0</td>\n",
       "      <td>0.0</td>\n",
       "      <td>0.0</td>\n",
       "      <td>0</td>\n",
       "      <td>8.626118</td>\n",
       "    </tr>\n",
       "  </tbody>\n",
       "</table>\n",
       "</div>"
      ],
      "text/plain": [
       "   Store  DayOfWeek        Date  Sales  Customers  Open  Promo StateHoliday  \\\n",
       "0      1          5  2015-07-31   5263        555     1      1            0   \n",
       "1      2          5  2015-07-31   6064        625     1      1            0   \n",
       "2      3          5  2015-07-31   8314        821     1      1            0   \n",
       "3      4          5  2015-07-31  13995       1498     1      1            0   \n",
       "4      5          5  2015-07-31   4822        559     1      1            0   \n",
       "\n",
       "   SchoolHoliday StoreType Assortment  CompetitionDistance  \\\n",
       "0              1         c          a               1270.0   \n",
       "1              1         a          a                570.0   \n",
       "2              1         a          a              14130.0   \n",
       "3              1         c          c                620.0   \n",
       "4              1         a          a              29910.0   \n",
       "\n",
       "   CompetitionOpenSinceMonth  CompetitionOpenSinceYear  Promo2  \\\n",
       "0                        9.0                    2008.0       0   \n",
       "1                       11.0                    2007.0       1   \n",
       "2                       12.0                    2006.0       1   \n",
       "3                        9.0                    2009.0       0   \n",
       "4                        4.0                    2015.0       0   \n",
       "\n",
       "   Promo2SinceWeek  Promo2SinceYear    PromoInterval  SalesPerCustomer  \n",
       "0              0.0              0.0                0          9.482883  \n",
       "1             13.0           2010.0  Jan,Apr,Jul,Oct          9.702400  \n",
       "2             14.0           2011.0  Jan,Apr,Jul,Oct         10.126675  \n",
       "3              0.0              0.0                0          9.342457  \n",
       "4              0.0              0.0                0          8.626118  "
      ]
     },
     "execution_count": 8,
     "metadata": {},
     "output_type": "execute_result"
    }
   ],
   "source": [
    "#store数据中缺少每家商店平均销量、平均客户数以及单客消费\n",
    "\n",
    "train_comb = pd.merge(train,store,on ='Store',how = 'left')\n",
    "train_comb['SalesPerCustomer'] = train['Sales']/train['Customers']\n",
    "train_comb.head()"
   ]
  },
  {
   "cell_type": "code",
   "execution_count": 9,
   "metadata": {
    "scrolled": true
   },
   "outputs": [
    {
     "data": {
      "text/html": [
       "<div>\n",
       "<style scoped>\n",
       "    .dataframe tbody tr th:only-of-type {\n",
       "        vertical-align: middle;\n",
       "    }\n",
       "\n",
       "    .dataframe tbody tr th {\n",
       "        vertical-align: top;\n",
       "    }\n",
       "\n",
       "    .dataframe thead th {\n",
       "        text-align: right;\n",
       "    }\n",
       "</style>\n",
       "<table border=\"1\" class=\"dataframe\">\n",
       "  <thead>\n",
       "    <tr style=\"text-align: right;\">\n",
       "      <th></th>\n",
       "      <th>Store</th>\n",
       "      <th>AvgSales</th>\n",
       "      <th>AvgCustomers</th>\n",
       "      <th>AvgSalesPerCustomer</th>\n",
       "      <th>StoreType</th>\n",
       "      <th>Assortment</th>\n",
       "      <th>CompetitionDistance</th>\n",
       "      <th>CompetitionOpenSinceMonth</th>\n",
       "      <th>CompetitionOpenSinceYear</th>\n",
       "      <th>Promo2</th>\n",
       "      <th>Promo2SinceWeek</th>\n",
       "      <th>Promo2SinceYear</th>\n",
       "      <th>PromoInterval</th>\n",
       "    </tr>\n",
       "  </thead>\n",
       "  <tbody>\n",
       "    <tr>\n",
       "      <th>0</th>\n",
       "      <td>1</td>\n",
       "      <td>4759.096031</td>\n",
       "      <td>564.049936</td>\n",
       "      <td>9.675881</td>\n",
       "      <td>c</td>\n",
       "      <td>a</td>\n",
       "      <td>1270.0</td>\n",
       "      <td>9.0</td>\n",
       "      <td>2008.0</td>\n",
       "      <td>0</td>\n",
       "      <td>0.0</td>\n",
       "      <td>0.0</td>\n",
       "      <td>0</td>\n",
       "    </tr>\n",
       "    <tr>\n",
       "      <th>1</th>\n",
       "      <td>2</td>\n",
       "      <td>4953.900510</td>\n",
       "      <td>583.998724</td>\n",
       "      <td>9.524963</td>\n",
       "      <td>a</td>\n",
       "      <td>a</td>\n",
       "      <td>570.0</td>\n",
       "      <td>11.0</td>\n",
       "      <td>2007.0</td>\n",
       "      <td>1</td>\n",
       "      <td>13.0</td>\n",
       "      <td>2010.0</td>\n",
       "      <td>Jan,Apr,Jul,Oct</td>\n",
       "    </tr>\n",
       "    <tr>\n",
       "      <th>2</th>\n",
       "      <td>3</td>\n",
       "      <td>6942.568678</td>\n",
       "      <td>750.077022</td>\n",
       "      <td>9.605451</td>\n",
       "      <td>a</td>\n",
       "      <td>a</td>\n",
       "      <td>14130.0</td>\n",
       "      <td>12.0</td>\n",
       "      <td>2006.0</td>\n",
       "      <td>1</td>\n",
       "      <td>14.0</td>\n",
       "      <td>2011.0</td>\n",
       "      <td>Jan,Apr,Jul,Oct</td>\n",
       "    </tr>\n",
       "    <tr>\n",
       "      <th>3</th>\n",
       "      <td>4</td>\n",
       "      <td>9638.401786</td>\n",
       "      <td>1321.752551</td>\n",
       "      <td>9.368412</td>\n",
       "      <td>c</td>\n",
       "      <td>c</td>\n",
       "      <td>620.0</td>\n",
       "      <td>9.0</td>\n",
       "      <td>2009.0</td>\n",
       "      <td>0</td>\n",
       "      <td>0.0</td>\n",
       "      <td>0.0</td>\n",
       "      <td>0</td>\n",
       "    </tr>\n",
       "    <tr>\n",
       "      <th>4</th>\n",
       "      <td>5</td>\n",
       "      <td>4676.274711</td>\n",
       "      <td>537.340180</td>\n",
       "      <td>9.529327</td>\n",
       "      <td>a</td>\n",
       "      <td>a</td>\n",
       "      <td>29910.0</td>\n",
       "      <td>4.0</td>\n",
       "      <td>2015.0</td>\n",
       "      <td>0</td>\n",
       "      <td>0.0</td>\n",
       "      <td>0.0</td>\n",
       "      <td>0</td>\n",
       "    </tr>\n",
       "  </tbody>\n",
       "</table>\n",
       "</div>"
      ],
      "text/plain": [
       "   Store     AvgSales  AvgCustomers  AvgSalesPerCustomer StoreType Assortment  \\\n",
       "0      1  4759.096031    564.049936             9.675881         c          a   \n",
       "1      2  4953.900510    583.998724             9.524963         a          a   \n",
       "2      3  6942.568678    750.077022             9.605451         a          a   \n",
       "3      4  9638.401786   1321.752551             9.368412         c          c   \n",
       "4      5  4676.274711    537.340180             9.529327         a          a   \n",
       "\n",
       "   CompetitionDistance  CompetitionOpenSinceMonth  CompetitionOpenSinceYear  \\\n",
       "0               1270.0                        9.0                    2008.0   \n",
       "1                570.0                       11.0                    2007.0   \n",
       "2              14130.0                       12.0                    2006.0   \n",
       "3                620.0                        9.0                    2009.0   \n",
       "4              29910.0                        4.0                    2015.0   \n",
       "\n",
       "   Promo2  Promo2SinceWeek  Promo2SinceYear    PromoInterval  \n",
       "0       0              0.0              0.0                0  \n",
       "1       1             13.0           2010.0  Jan,Apr,Jul,Oct  \n",
       "2       1             14.0           2011.0  Jan,Apr,Jul,Oct  \n",
       "3       0              0.0              0.0                0  \n",
       "4       0              0.0              0.0                0  "
      ]
     },
     "execution_count": 9,
     "metadata": {},
     "output_type": "execute_result"
    }
   ],
   "source": [
    "#计算每个store的平均数据\n",
    "\n",
    "store_avg = train_comb.groupby('Store')[['Sales','Customers','SalesPerCustomer']].mean()\n",
    "store_avg.columns = ['AvgSales','AvgCustomers','AvgSalesPerCustomer']\n",
    "store_comb = pd.merge(store_avg.reset_index(),store,on='Store')\n",
    "\n",
    "store_comb.head()"
   ]
  },
  {
   "cell_type": "code",
   "execution_count": 11,
   "metadata": {
    "scrolled": true
   },
   "outputs": [
    {
     "data": {
      "text/plain": [
       "['Store',\n",
       " 'DayOfWeek',\n",
       " 'Date',\n",
       " 'Sales',\n",
       " 'Customers',\n",
       " 'Open',\n",
       " 'Promo',\n",
       " 'SchoolHoliday',\n",
       " 'CompetitionDistance_x',\n",
       " 'CompetitionOpenSinceMonth_x',\n",
       " 'CompetitionOpenSinceYear_x',\n",
       " 'Promo2_x',\n",
       " 'Promo2SinceWeek_x',\n",
       " 'Promo2SinceYear_x',\n",
       " 'PromoInterval_x',\n",
       " 'SalesPerCustomer',\n",
       " 'AvgSales',\n",
       " 'AvgCustomers',\n",
       " 'AvgSalesPerCustomer',\n",
       " 'CompetitionDistance_y',\n",
       " 'CompetitionOpenSinceMonth_y',\n",
       " 'CompetitionOpenSinceYear_y',\n",
       " 'Promo2_y',\n",
       " 'Promo2SinceWeek_y',\n",
       " 'Promo2SinceYear_y',\n",
       " 'PromoInterval_y',\n",
       " 'StoreType_a',\n",
       " 'StoreType_b',\n",
       " 'StoreType_c',\n",
       " 'StoreType_d',\n",
       " 'Assortment_a',\n",
       " 'Assortment_b',\n",
       " 'Assortment_c',\n",
       " 'StoreType_a',\n",
       " 'StoreType_b',\n",
       " 'StoreType_c',\n",
       " 'StoreType_d',\n",
       " 'Assortment_a',\n",
       " 'Assortment_b',\n",
       " 'Assortment_c',\n",
       " 'StateHoliday_0',\n",
       " 'StateHoliday_a',\n",
       " 'StateHoliday_b',\n",
       " 'StateHoliday_c']"
      ]
     },
     "execution_count": 11,
     "metadata": {},
     "output_type": "execute_result"
    }
   ],
   "source": [
    "#将store中的商店类型字符串变为int\n",
    "\n",
    "#store_comb = pd.get_dummies(store_comb,columns=['StoreType','Assortment'])\n",
    "\n",
    "#store_comb['StoreType'] = store_comb['StoreType'].astype('category').cat.codes\n",
    "#store_comb['Assortment'] = store_comb['Assortment'].astype('category').cat.codes\n",
    "\n",
    "#将store与train数据合并\n",
    "\n",
    "feature_comb = pd.merge(train_comb,store_comb,on = 'Store',how ='left')\n",
    "feature_comb = pd.get_dummies(feature_comb,columns=['StoreType','Assortment','StateHoliday'])\n",
    "\n",
    "feature_comb.head()\n",
    "list(feature_comb)"
   ]
  },
  {
   "cell_type": "code",
   "execution_count": 13,
   "metadata": {},
   "outputs": [],
   "source": [
    "from sklearn.model_selection import train_test_split\n",
    "\n",
    "#根据EDA的初步分析，选择重要的特征值\n",
    "\n",
    "X = [\n",
    "    'Store',\n",
    "    'DayOfWeek',\n",
    "    'Customers',\n",
    "    'Promo',\n",
    "    \n",
    "    'StateHoliday_0',\n",
    "    'StateHoliday_a',\n",
    "    'StateHoliday_b',\n",
    "    'StateHoliday_c',\n",
    "    \n",
    "    'StoreType_a',\n",
    "    'StoreType_b',\n",
    "    'StoreType_c',\n",
    "    'StoreType_d',\n",
    "    \n",
    "    'Assortment_a',\n",
    "    'Assortment_b',\n",
    "    'Assortment_c',\n",
    "    \n",
    "    'AvgSales',\n",
    "    'AvgCustomers',\n",
    "    'AvgSalesPerCustomer',\n",
    "    'CompetitionDistance_x',\n",
    "    'CompetitionDistance_y'\n",
    "    \n",
    "]\n",
    "\n",
    "X_train, X_test, y_train, y_test = train_test_split(feature_comb[X],feature_comb['Sales'],test_size = 0.15,random_state =30)"
   ]
  },
  {
   "cell_type": "code",
   "execution_count": 14,
   "metadata": {},
   "outputs": [
    {
     "data": {
      "text/plain": [
       "DecisionTreeRegressor(criterion='mse', max_depth=None, max_features=None,\n",
       "           max_leaf_nodes=None, min_impurity_decrease=0.0,\n",
       "           min_impurity_split=None, min_samples_leaf=1,\n",
       "           min_samples_split=2, min_weight_fraction_leaf=0.0,\n",
       "           presort=False, random_state=None, splitter='best')"
      ]
     },
     "execution_count": 14,
     "metadata": {},
     "output_type": "execute_result"
    }
   ],
   "source": [
    "from sklearn.tree import DecisionTreeRegressor\n",
    "\n",
    "#训练模型\n",
    "DT = DecisionTreeRegressor()\n",
    "DT.fit(X_train,y_train)\n",
    "\n"
   ]
  },
  {
   "cell_type": "code",
   "execution_count": 15,
   "metadata": {},
   "outputs": [],
   "source": [
    "#预测结果\n",
    "y_pre = DT.predict(X_test)\n",
    "\n"
   ]
  },
  {
   "cell_type": "code",
   "execution_count": 18,
   "metadata": {},
   "outputs": [],
   "source": [
    "#评价预测结果\n",
    "from sklearn.metrics import make_scorer\n",
    "from sklearn.model_selection import cross_val_score"
   ]
  },
  {
   "cell_type": "code",
   "execution_count": 25,
   "metadata": {},
   "outputs": [],
   "source": [
    "# Error calculating function according to kaggle\n",
    "def rmspe(y, y_pre):\n",
    "    return np.sqrt(np.mean(((y - y_pre) / y) ** 2))\n",
    "\n",
    "rmpse_scorer = make_scorer(rmspe, greater_is_better = False) # Loss function\n",
    "\n",
    "def score(model, X_train, y_train, y_test, y_pre):\n",
    "    score = cross_val_score(model, X_train, y_train, scoring=rmpse_scorer, cv=5)\n",
    "    print('Mean', score.mean())\n",
    "    print('Variance', score.var())\n",
    "    print('RMSPE', rmspe(y_test, y_pre))\n",
    "\n",
    "def plot_importance(model):\n",
    "    k = list(zip(X, model.feature_importances_))\n",
    "    k.sort(key=lambda tup: tup[1])\n",
    "\n",
    "    labels, vals = zip(*k)\n",
    "    \n",
    "    plt.barh(np.arange(len(X)), vals, align='center')\n",
    "    plt.yticks(np.arange(len(X)), labels)"
   ]
  },
  {
   "cell_type": "code",
   "execution_count": 22,
   "metadata": {},
   "outputs": [
    {
     "name": "stdout",
     "output_type": "stream",
     "text": [
      "Mean -0.09237332230184112\n",
      "Variance 8.179224245538037e-07\n",
      "RMSPE 0.0902890532518206\n"
     ]
    }
   ],
   "source": [
    "score(DT, X_train, y_train, y_test, y_pre)\n"
   ]
  },
  {
   "cell_type": "code",
   "execution_count": 28,
   "metadata": {},
   "outputs": [
    {
     "data": {
      "image/png": "[encoded data removed]",
      "text/plain": [
       "<Figure size 432x288 with 1 Axes>"
      ]
     },
     "metadata": {},
     "output_type": "display_data"
    }
   ],
   "source": [
    "plot_importance(DT)\n"
   ]
  },
  {
   "cell_type": "markdown",
   "metadata": {},
   "source": [
    "## 尝试使用AdaBoost提升结果\n"
   ]
  },
  {
   "cell_type": "code",
   "execution_count": 29,
   "metadata": {},
   "outputs": [
    {
     "name": "stdout",
     "output_type": "stream",
     "text": [
      "Mean -0.07973845303159258\n",
      "Variance 3.102109239305499e-05\n",
      "RMSPE 0.07507810616424736\n"
     ]
    }
   ],
   "source": [
    "from sklearn.ensemble import AdaBoostRegressor\n",
    "Ada_DT = AdaBoostRegressor(DecisionTreeRegressor())\n",
    "\n",
    "Ada_DT.fit(X_train,y_train)\n",
    "y_pre = Ada_DT.predict(X_test)\n",
    "\n",
    "score(Ada_DT,X_train,y_train,y_test,y_pre)"
   ]
  }
 ],
 "metadata": {
  "kernelspec": {
   "display_name": "Python 3",
   "language": "python",
   "name": "python3"
  },
  "language_info": {
   "codemirror_mode": {
    "name": "ipython",
    "version": 3
   },
   "file_extension": ".py",
   "mimetype": "text/x-python",
   "name": "python",
   "nbconvert_exporter": "python",
   "pygments_lexer": "ipython3",
   "version": "3.6.5"
  }
 },
 "nbformat": 4,
 "nbformat_minor": 2
}
