{
 "cells": [
  {
   "cell_type": "markdown",
   "metadata": {},
   "source": [
    "# Adaboost 模型预测"
   ]
  },
  {
   "cell_type": "markdown",
   "metadata": {},
   "source": [
    "#### 之前使用了 DecisionTree 决策树模型，原本是希望在后面直接对比检测 Adaboost 模型的效果，但是程序报错，分析有以下几个问题：\n",
    "\n",
    "1. **独热编码 One Hot Enconding 出错**。导致这一问题的原因是，在模型模型的时候，对非数值特征，进行了独热编码后出现了 StateHoliday_b,competition_x 这些奇怪的编码。代码中明明没有对 StateHoliday 进行编码，但是最后合并后的数据集中有不同编码，感到很奇怪。可能是因为之前代码中有误操作，然后 notebook 又是和执行顺序有关的，所以错误一直保留了下来。\n",
    "2. **测试集 test 中没有 customer 这一训练模型特征**。最开始的时候，并没有注意到 test 中没有 customer 这一特征，所以在训练模型的时候，没有 drop 掉这一特征，必然导致最后在 Adaboost 测试的时候报错。因而，在训练模型的时候，就应该把 customer 这一特征 drop 掉。"
   ]
  },
  {
   "cell_type": "code",
   "execution_count": 256,
   "metadata": {},
   "outputs": [],
   "source": [
    "#导入库与读取数据\n",
    "\n",
    "import numpy as np\n",
    "import pandas as pd\n",
    "import matplotlib.pyplot as plt\n"
   ]
  },
  {
   "cell_type": "code",
   "execution_count": 257,
   "metadata": {},
   "outputs": [
    {
     "name": "stderr",
     "output_type": "stream",
     "text": [
      "/Users/limao/miniconda3/lib/python3.6/site-packages/IPython/core/interactiveshell.py:2785: DtypeWarning: Columns (7) have mixed types. Specify dtype option on import or set low_memory=False.\n",
      "  interactivity=interactivity, compiler=compiler, result=result)\n"
     ]
    }
   ],
   "source": [
    "#读取数据\n",
    "train = pd.read_csv(\"inputs/train.csv\")\n",
    "test = pd.read_csv(\"inputs/test.csv\")\n",
    "store = pd.read_csv(\"inputs/store.csv\")"
   ]
  },
  {
   "cell_type": "markdown",
   "metadata": {},
   "source": [
    "## 对异常值进行处理"
   ]
  },
  {
   "cell_type": "code",
   "execution_count": 258,
   "metadata": {},
   "outputs": [
    {
     "name": "stdout",
     "output_type": "stream",
     "text": [
      "172871 train datas were deleted\n"
     ]
    }
   ],
   "source": [
    "#train中去除open=1但是sales=0的数据\n",
    "\n",
    "train = train.loc[train['Sales']>0]\n",
    "\n",
    "print('{} train datas were deleted'.format(1017209 - len(train)))"
   ]
  },
  {
   "cell_type": "code",
   "execution_count": 259,
   "metadata": {},
   "outputs": [
    {
     "name": "stdout",
     "output_type": "stream",
     "text": [
      "StateHoliday unique values 4\n"
     ]
    }
   ],
   "source": [
    "#train 中StateHoliday 将字符与数字0混淆，存在5个不同值\n",
    "\n",
    "train.StateHoliday = train.StateHoliday.map({'0':'0',0:'0','a':'a','b':'b','c':'c'})\n",
    "\n",
    "print('StateHoliday unique values {}'.format(len(train.StateHoliday.unique())))"
   ]
  },
  {
   "cell_type": "code",
   "execution_count": 260,
   "metadata": {},
   "outputs": [],
   "source": [
    "#store中的NaN用0填充,表示没有竞争或者没有没有促销\n",
    "\n",
    "store.fillna(0,inplace = True)"
   ]
  },
  {
   "cell_type": "markdown",
   "metadata": {},
   "source": [
    "## 对 Store 增加平均销量、顾客数以及单客消费特征"
   ]
  },
  {
   "cell_type": "code",
   "execution_count": 261,
   "metadata": {},
   "outputs": [],
   "source": [
    "#计算单客消费，并在 train 中增加一列\n",
    "\n",
    "train['SalesPerCustomer'] = train['Sales']/train['Customers']\n"
   ]
  },
  {
   "cell_type": "code",
   "execution_count": 262,
   "metadata": {},
   "outputs": [
    {
     "data": {
      "text/html": [
       "<div>\n",
       "<style scoped>\n",
       "    .dataframe tbody tr th:only-of-type {\n",
       "        vertical-align: middle;\n",
       "    }\n",
       "\n",
       "    .dataframe tbody tr th {\n",
       "        vertical-align: top;\n",
       "    }\n",
       "\n",
       "    .dataframe thead th {\n",
       "        text-align: right;\n",
       "    }\n",
       "</style>\n",
       "<table border=\"1\" class=\"dataframe\">\n",
       "  <thead>\n",
       "    <tr style=\"text-align: right;\">\n",
       "      <th></th>\n",
       "      <th>Store</th>\n",
       "      <th>AvgSales</th>\n",
       "      <th>AvgCustomers</th>\n",
       "      <th>AvgSalesPerCustomer</th>\n",
       "      <th>StoreType</th>\n",
       "      <th>Assortment</th>\n",
       "      <th>CompetitionDistance</th>\n",
       "      <th>CompetitionOpenSinceMonth</th>\n",
       "      <th>CompetitionOpenSinceYear</th>\n",
       "      <th>Promo2</th>\n",
       "      <th>Promo2SinceWeek</th>\n",
       "      <th>Promo2SinceYear</th>\n",
       "      <th>PromoInterval</th>\n",
       "    </tr>\n",
       "  </thead>\n",
       "  <tbody>\n",
       "    <tr>\n",
       "      <th>0</th>\n",
       "      <td>1</td>\n",
       "      <td>4759.096031</td>\n",
       "      <td>564.049936</td>\n",
       "      <td>8.393038</td>\n",
       "      <td>c</td>\n",
       "      <td>a</td>\n",
       "      <td>1270.0</td>\n",
       "      <td>9.0</td>\n",
       "      <td>2008.0</td>\n",
       "      <td>0</td>\n",
       "      <td>0.0</td>\n",
       "      <td>0.0</td>\n",
       "      <td>0</td>\n",
       "    </tr>\n",
       "    <tr>\n",
       "      <th>1</th>\n",
       "      <td>2</td>\n",
       "      <td>4953.900510</td>\n",
       "      <td>583.998724</td>\n",
       "      <td>8.408443</td>\n",
       "      <td>a</td>\n",
       "      <td>a</td>\n",
       "      <td>570.0</td>\n",
       "      <td>11.0</td>\n",
       "      <td>2007.0</td>\n",
       "      <td>1</td>\n",
       "      <td>13.0</td>\n",
       "      <td>2010.0</td>\n",
       "      <td>Jan,Apr,Jul,Oct</td>\n",
       "    </tr>\n",
       "    <tr>\n",
       "      <th>2</th>\n",
       "      <td>3</td>\n",
       "      <td>6942.568678</td>\n",
       "      <td>750.077022</td>\n",
       "      <td>9.117599</td>\n",
       "      <td>a</td>\n",
       "      <td>a</td>\n",
       "      <td>14130.0</td>\n",
       "      <td>12.0</td>\n",
       "      <td>2006.0</td>\n",
       "      <td>1</td>\n",
       "      <td>14.0</td>\n",
       "      <td>2011.0</td>\n",
       "      <td>Jan,Apr,Jul,Oct</td>\n",
       "    </tr>\n",
       "    <tr>\n",
       "      <th>3</th>\n",
       "      <td>4</td>\n",
       "      <td>9638.401786</td>\n",
       "      <td>1321.752551</td>\n",
       "      <td>7.249827</td>\n",
       "      <td>c</td>\n",
       "      <td>c</td>\n",
       "      <td>620.0</td>\n",
       "      <td>9.0</td>\n",
       "      <td>2009.0</td>\n",
       "      <td>0</td>\n",
       "      <td>0.0</td>\n",
       "      <td>0.0</td>\n",
       "      <td>0</td>\n",
       "    </tr>\n",
       "    <tr>\n",
       "      <th>4</th>\n",
       "      <td>5</td>\n",
       "      <td>4676.274711</td>\n",
       "      <td>537.340180</td>\n",
       "      <td>8.611229</td>\n",
       "      <td>a</td>\n",
       "      <td>a</td>\n",
       "      <td>29910.0</td>\n",
       "      <td>4.0</td>\n",
       "      <td>2015.0</td>\n",
       "      <td>0</td>\n",
       "      <td>0.0</td>\n",
       "      <td>0.0</td>\n",
       "      <td>0</td>\n",
       "    </tr>\n",
       "  </tbody>\n",
       "</table>\n",
       "</div>"
      ],
      "text/plain": [
       "   Store     AvgSales  AvgCustomers  AvgSalesPerCustomer StoreType Assortment  \\\n",
       "0      1  4759.096031    564.049936             8.393038         c          a   \n",
       "1      2  4953.900510    583.998724             8.408443         a          a   \n",
       "2      3  6942.568678    750.077022             9.117599         a          a   \n",
       "3      4  9638.401786   1321.752551             7.249827         c          c   \n",
       "4      5  4676.274711    537.340180             8.611229         a          a   \n",
       "\n",
       "   CompetitionDistance  CompetitionOpenSinceMonth  CompetitionOpenSinceYear  \\\n",
       "0               1270.0                        9.0                    2008.0   \n",
       "1                570.0                       11.0                    2007.0   \n",
       "2              14130.0                       12.0                    2006.0   \n",
       "3                620.0                        9.0                    2009.0   \n",
       "4              29910.0                        4.0                    2015.0   \n",
       "\n",
       "   Promo2  Promo2SinceWeek  Promo2SinceYear    PromoInterval  \n",
       "0       0              0.0              0.0                0  \n",
       "1       1             13.0           2010.0  Jan,Apr,Jul,Oct  \n",
       "2       1             14.0           2011.0  Jan,Apr,Jul,Oct  \n",
       "3       0              0.0              0.0                0  \n",
       "4       0              0.0              0.0                0  "
      ]
     },
     "execution_count": 262,
     "metadata": {},
     "output_type": "execute_result"
    }
   ],
   "source": [
    "store_avg = train.groupby('Store')[['Sales','Customers','SalesPerCustomer']].mean()\n",
    "store_avg.columns = ['AvgSales','AvgCustomers','AvgSalesPerCustomer']\n",
    "store_new = pd.merge(store_avg.reset_index(),store,on='Store')\n",
    "\n",
    "store_new.head()"
   ]
  },
  {
   "cell_type": "markdown",
   "metadata": {},
   "source": [
    "## 特征工程\n",
    "\n",
    "1. 吸取在 DecisionTree 决策树模型中的教训，在进行特征工程的时候，定义一个函数，将独热编码等处理，都放在函数中处理。避免 notebook 执行顺序或者执行次数，对编码造成影响\n",
    "2. 在 DT 决策树模型中没有充分考虑 competition 这一特征，在这里增加考虑竞争者开业的时间。\n",
    "3. StateHoliday、StoreType 以及 Assortment 中的种类最多都只有4种，因此考虑有枚举的方式，借助 map() 函数来减小特征维度"
   ]
  },
  {
   "cell_type": "code",
   "execution_count": 263,
   "metadata": {},
   "outputs": [],
   "source": [
    "def creat_feature(train,store_new):\n",
    "    \n",
    "    OHM = {'0':0,'a':1,'b':2,'c':3,'d':4}\n",
    "    \n",
    "    store_new.StoreType.replace(OHM,inplace = True)\n",
    "    store_new.Assortment.replace(OHM,inplace = True)\n",
    "    train.StateHoliday.replace(OHM,inplace = True)\n",
    "    \n",
    "    #合并 train 与 store\n",
    "    \n",
    "    train_comb = pd.merge(train,store_new,on='Store',how ='left')\n",
    "    \n",
    "    \n",
    "    \n",
    "    #处理 train 中的日期\n",
    "    train_comb.Date = pd.to_datetime(train_comb.Date)#将日期数据转换为时间类型\n",
    "    train_comb['year'] = train_comb.Date.map(lambda x:x.year)\n",
    "    train_comb['month'] = train_comb.Date.map(lambda x:x.month)\n",
    "    train_comb['day'] = train_comb.Date.map(lambda x:x.day)\n",
    "    \n",
    "    #计算竞争存在的月份时长\n",
    "    \n",
    "    \n",
    "   \n",
    "    train_comb['CompetitionExistMonth'] = 12 * (train_comb['year']-train_comb['CompetitionOpenSinceYear']) +\\\n",
    "    (train_comb['month']-train_comb['CompetitionOpenSinceMonth'])\n",
    "    \n",
    "    #不存在竞争的，对应竞争存在月份当然置于0\n",
    "    train_comb.loc[train_comb['CompetitionOpenSinceYear'] == 0, 'CompetitionExistMonth'] =0\n",
    "    \n",
    "    \n",
    "    #计算年度促销的存在的星期长\n",
    "    \n",
    "    \n",
    "    train_comb['Promo2ExistWeek'] = 52 * (train_comb['year']-train_comb['Promo2SinceYear']) +\\\n",
    "    (train_comb['Date'].dt.weekofyear-train_comb['Promo2SinceWeek'])\n",
    "    \n",
    "    #不在年度促销的，对应年度促销星期置于0\n",
    "    train_comb.loc[train_comb['Promo2'] == 0,'Promo2ExistWeek'] =0\n",
    "        \n",
    "   \n",
    "    \n",
    "    #去掉 Date\n",
    "    #train_comb.drop(['Date'],axis =1,inplace = True)\n",
    "    \n",
    "    return train_comb\n",
    "\n",
    "\n",
    "    \n",
    "    \n",
    "    \n",
    "\n",
    "\n",
    "    \n",
    "    "
   ]
  },
  {
   "cell_type": "code",
   "execution_count": 265,
   "metadata": {
    "scrolled": true
   },
   "outputs": [
    {
     "data": {
      "text/html": [
       "<div>\n",
       "<style scoped>\n",
       "    .dataframe tbody tr th:only-of-type {\n",
       "        vertical-align: middle;\n",
       "    }\n",
       "\n",
       "    .dataframe tbody tr th {\n",
       "        vertical-align: top;\n",
       "    }\n",
       "\n",
       "    .dataframe thead th {\n",
       "        text-align: right;\n",
       "    }\n",
       "</style>\n",
       "<table border=\"1\" class=\"dataframe\">\n",
       "  <thead>\n",
       "    <tr style=\"text-align: right;\">\n",
       "      <th></th>\n",
       "      <th>Store</th>\n",
       "      <th>DayOfWeek</th>\n",
       "      <th>Date</th>\n",
       "      <th>Sales</th>\n",
       "      <th>Open</th>\n",
       "      <th>Promo</th>\n",
       "      <th>StateHoliday</th>\n",
       "      <th>SchoolHoliday</th>\n",
       "      <th>SalesPerCustomer</th>\n",
       "      <th>AvgSales</th>\n",
       "      <th>...</th>\n",
       "      <th>CompetitionOpenSinceYear</th>\n",
       "      <th>Promo2</th>\n",
       "      <th>Promo2SinceWeek</th>\n",
       "      <th>Promo2SinceYear</th>\n",
       "      <th>PromoInterval</th>\n",
       "      <th>year</th>\n",
       "      <th>month</th>\n",
       "      <th>day</th>\n",
       "      <th>CompetitionExistMonth</th>\n",
       "      <th>Promo2ExistWeek</th>\n",
       "    </tr>\n",
       "  </thead>\n",
       "  <tbody>\n",
       "    <tr>\n",
       "      <th>0</th>\n",
       "      <td>1</td>\n",
       "      <td>5</td>\n",
       "      <td>2015-07-31</td>\n",
       "      <td>5263</td>\n",
       "      <td>1</td>\n",
       "      <td>1</td>\n",
       "      <td>0</td>\n",
       "      <td>1</td>\n",
       "      <td>9.482883</td>\n",
       "      <td>4759.096031</td>\n",
       "      <td>...</td>\n",
       "      <td>2008.0</td>\n",
       "      <td>0</td>\n",
       "      <td>0.0</td>\n",
       "      <td>0.0</td>\n",
       "      <td>0</td>\n",
       "      <td>2015</td>\n",
       "      <td>7</td>\n",
       "      <td>31</td>\n",
       "      <td>82.0</td>\n",
       "      <td>0.0</td>\n",
       "    </tr>\n",
       "    <tr>\n",
       "      <th>1</th>\n",
       "      <td>2</td>\n",
       "      <td>5</td>\n",
       "      <td>2015-07-31</td>\n",
       "      <td>6064</td>\n",
       "      <td>1</td>\n",
       "      <td>1</td>\n",
       "      <td>0</td>\n",
       "      <td>1</td>\n",
       "      <td>9.702400</td>\n",
       "      <td>4953.900510</td>\n",
       "      <td>...</td>\n",
       "      <td>2007.0</td>\n",
       "      <td>1</td>\n",
       "      <td>13.0</td>\n",
       "      <td>2010.0</td>\n",
       "      <td>Jan,Apr,Jul,Oct</td>\n",
       "      <td>2015</td>\n",
       "      <td>7</td>\n",
       "      <td>31</td>\n",
       "      <td>92.0</td>\n",
       "      <td>278.0</td>\n",
       "    </tr>\n",
       "    <tr>\n",
       "      <th>2</th>\n",
       "      <td>3</td>\n",
       "      <td>5</td>\n",
       "      <td>2015-07-31</td>\n",
       "      <td>8314</td>\n",
       "      <td>1</td>\n",
       "      <td>1</td>\n",
       "      <td>0</td>\n",
       "      <td>1</td>\n",
       "      <td>10.126675</td>\n",
       "      <td>6942.568678</td>\n",
       "      <td>...</td>\n",
       "      <td>2006.0</td>\n",
       "      <td>1</td>\n",
       "      <td>14.0</td>\n",
       "      <td>2011.0</td>\n",
       "      <td>Jan,Apr,Jul,Oct</td>\n",
       "      <td>2015</td>\n",
       "      <td>7</td>\n",
       "      <td>31</td>\n",
       "      <td>103.0</td>\n",
       "      <td>225.0</td>\n",
       "    </tr>\n",
       "    <tr>\n",
       "      <th>3</th>\n",
       "      <td>4</td>\n",
       "      <td>5</td>\n",
       "      <td>2015-07-31</td>\n",
       "      <td>13995</td>\n",
       "      <td>1</td>\n",
       "      <td>1</td>\n",
       "      <td>0</td>\n",
       "      <td>1</td>\n",
       "      <td>9.342457</td>\n",
       "      <td>9638.401786</td>\n",
       "      <td>...</td>\n",
       "      <td>2009.0</td>\n",
       "      <td>0</td>\n",
       "      <td>0.0</td>\n",
       "      <td>0.0</td>\n",
       "      <td>0</td>\n",
       "      <td>2015</td>\n",
       "      <td>7</td>\n",
       "      <td>31</td>\n",
       "      <td>70.0</td>\n",
       "      <td>0.0</td>\n",
       "    </tr>\n",
       "    <tr>\n",
       "      <th>4</th>\n",
       "      <td>5</td>\n",
       "      <td>5</td>\n",
       "      <td>2015-07-31</td>\n",
       "      <td>4822</td>\n",
       "      <td>1</td>\n",
       "      <td>1</td>\n",
       "      <td>0</td>\n",
       "      <td>1</td>\n",
       "      <td>8.626118</td>\n",
       "      <td>4676.274711</td>\n",
       "      <td>...</td>\n",
       "      <td>2015.0</td>\n",
       "      <td>0</td>\n",
       "      <td>0.0</td>\n",
       "      <td>0.0</td>\n",
       "      <td>0</td>\n",
       "      <td>2015</td>\n",
       "      <td>7</td>\n",
       "      <td>31</td>\n",
       "      <td>3.0</td>\n",
       "      <td>0.0</td>\n",
       "    </tr>\n",
       "  </tbody>\n",
       "</table>\n",
       "<p>5 rows × 26 columns</p>\n",
       "</div>"
      ],
      "text/plain": [
       "   Store  DayOfWeek       Date  Sales  Open  Promo  StateHoliday  \\\n",
       "0      1          5 2015-07-31   5263     1      1             0   \n",
       "1      2          5 2015-07-31   6064     1      1             0   \n",
       "2      3          5 2015-07-31   8314     1      1             0   \n",
       "3      4          5 2015-07-31  13995     1      1             0   \n",
       "4      5          5 2015-07-31   4822     1      1             0   \n",
       "\n",
       "   SchoolHoliday  SalesPerCustomer     AvgSales       ...         \\\n",
       "0              1          9.482883  4759.096031       ...          \n",
       "1              1          9.702400  4953.900510       ...          \n",
       "2              1         10.126675  6942.568678       ...          \n",
       "3              1          9.342457  9638.401786       ...          \n",
       "4              1          8.626118  4676.274711       ...          \n",
       "\n",
       "   CompetitionOpenSinceYear  Promo2  Promo2SinceWeek  Promo2SinceYear  \\\n",
       "0                    2008.0       0              0.0              0.0   \n",
       "1                    2007.0       1             13.0           2010.0   \n",
       "2                    2006.0       1             14.0           2011.0   \n",
       "3                    2009.0       0              0.0              0.0   \n",
       "4                    2015.0       0              0.0              0.0   \n",
       "\n",
       "     PromoInterval  year  month  day  CompetitionExistMonth  Promo2ExistWeek  \n",
       "0                0  2015      7   31                   82.0              0.0  \n",
       "1  Jan,Apr,Jul,Oct  2015      7   31                   92.0            278.0  \n",
       "2  Jan,Apr,Jul,Oct  2015      7   31                  103.0            225.0  \n",
       "3                0  2015      7   31                   70.0              0.0  \n",
       "4                0  2015      7   31                    3.0              0.0  \n",
       "\n",
       "[5 rows x 26 columns]"
      ]
     },
     "execution_count": 265,
     "metadata": {},
     "output_type": "execute_result"
    }
   ],
   "source": [
    "features = creat_feature(train,store_new)\n",
    "\n",
    "#去掉 Customers\n",
    "features.drop(['Customers'],axis =1,inplace = True)\n",
    "\n",
    "features.head()"
   ]
  },
  {
   "cell_type": "code",
   "execution_count": 266,
   "metadata": {},
   "outputs": [
    {
     "data": {
      "text/plain": [
       "0         3\n",
       "1         1\n",
       "2         1\n",
       "3         3\n",
       "4         1\n",
       "5         1\n",
       "6         1\n",
       "7         1\n",
       "8         1\n",
       "9         1\n",
       "10        1\n",
       "11        1\n",
       "12        4\n",
       "13        1\n",
       "14        4\n",
       "15        1\n",
       "16        1\n",
       "17        4\n",
       "18        1\n",
       "19        4\n",
       "20        3\n",
       "21        1\n",
       "22        4\n",
       "23        1\n",
       "24        3\n",
       "25        4\n",
       "26        1\n",
       "27        1\n",
       "28        4\n",
       "29        1\n",
       "         ..\n",
       "844308    4\n",
       "844309    4\n",
       "844310    3\n",
       "844311    1\n",
       "844312    1\n",
       "844313    1\n",
       "844314    3\n",
       "844315    3\n",
       "844316    1\n",
       "844317    3\n",
       "844318    1\n",
       "844319    1\n",
       "844320    4\n",
       "844321    2\n",
       "844322    2\n",
       "844323    2\n",
       "844324    2\n",
       "844325    2\n",
       "844326    2\n",
       "844327    2\n",
       "844328    2\n",
       "844329    2\n",
       "844330    1\n",
       "844331    2\n",
       "844332    2\n",
       "844333    2\n",
       "844334    2\n",
       "844335    2\n",
       "844336    2\n",
       "844337    2\n",
       "Name: StoreType, Length: 844338, dtype: int64"
      ]
     },
     "execution_count": 266,
     "metadata": {},
     "output_type": "execute_result"
    }
   ],
   "source": [
    "features.StoreType"
   ]
  },
  {
   "cell_type": "code",
   "execution_count": 267,
   "metadata": {},
   "outputs": [
    {
     "data": {
      "text/plain": [
       "['Store',\n",
       " 'DayOfWeek',\n",
       " 'Date',\n",
       " 'Sales',\n",
       " 'Open',\n",
       " 'Promo',\n",
       " 'StateHoliday',\n",
       " 'SchoolHoliday',\n",
       " 'SalesPerCustomer',\n",
       " 'AvgSales',\n",
       " 'AvgCustomers',\n",
       " 'AvgSalesPerCustomer',\n",
       " 'StoreType',\n",
       " 'Assortment',\n",
       " 'CompetitionDistance',\n",
       " 'CompetitionOpenSinceMonth',\n",
       " 'CompetitionOpenSinceYear',\n",
       " 'Promo2',\n",
       " 'Promo2SinceWeek',\n",
       " 'Promo2SinceYear',\n",
       " 'PromoInterval',\n",
       " 'year',\n",
       " 'month',\n",
       " 'day',\n",
       " 'CompetitionExistMonth',\n",
       " 'Promo2ExistWeek']"
      ]
     },
     "execution_count": 267,
     "metadata": {},
     "output_type": "execute_result"
    }
   ],
   "source": [
    "#打印查看所有的特征\n",
    "\n",
    "list(features)"
   ]
  },
  {
   "cell_type": "code",
   "execution_count": 268,
   "metadata": {},
   "outputs": [],
   "source": [
    "from sklearn.model_selection import train_test_split\n",
    "X = [\n",
    "     'Store',\n",
    "     'DayOfWeek',\n",
    "     #'Date',\n",
    "    \n",
    "     #'Sales',\n",
    "     'Open',\n",
    "     'Promo',\n",
    "     'StateHoliday',\n",
    "     'SchoolHoliday',\n",
    "    \n",
    "     #'SalesPerCustomer',\n",
    "     'AvgSales',\n",
    "     'AvgCustomers',\n",
    "     'AvgSalesPerCustomer',\n",
    "    \n",
    "     'StoreType',\n",
    "     'Assortment',\n",
    "    \n",
    "     'CompetitionDistance',\n",
    "     'CompetitionOpenSinceMonth',\n",
    "     'CompetitionOpenSinceYear',\n",
    "     'Promo2',\n",
    "     'Promo2SinceWeek',\n",
    "     'Promo2SinceYear',\n",
    "     #'PromoInterval',\n",
    "    \n",
    "     'year',\n",
    "     'month',\n",
    "     'day',\n",
    "    \n",
    "     'CompetitionExistMonth',\n",
    "     'Promo2ExistWeek'\n",
    "]"
   ]
  },
  {
   "cell_type": "code",
   "execution_count": 269,
   "metadata": {},
   "outputs": [],
   "source": [
    "X_train, X_test, y_train, y_test = train_test_split(\n",
    "    features[X],features['Sales'],test_size = 0.15,random_state =30)"
   ]
  },
  {
   "cell_type": "code",
   "execution_count": 270,
   "metadata": {
    "scrolled": true
   },
   "outputs": [
    {
     "data": {
      "text/plain": [
       "DecisionTreeRegressor(criterion='mse', max_depth=None, max_features=None,\n",
       "           max_leaf_nodes=None, min_impurity_decrease=0.0,\n",
       "           min_impurity_split=None, min_samples_leaf=1,\n",
       "           min_samples_split=2, min_weight_fraction_leaf=0.0,\n",
       "           presort=False, random_state=None, splitter='best')"
      ]
     },
     "execution_count": 270,
     "metadata": {},
     "output_type": "execute_result"
    }
   ],
   "source": [
    "from sklearn.tree import DecisionTreeRegressor\n",
    "\n",
    "#训练模型\n",
    "DT = DecisionTreeRegressor()\n",
    "DT.fit(X_train,y_train)\n"
   ]
  },
  {
   "cell_type": "markdown",
   "metadata": {},
   "source": [
    "## 模型评价尺度"
   ]
  },
  {
   "cell_type": "code",
   "execution_count": 271,
   "metadata": {},
   "outputs": [],
   "source": [
    "#训练集上预测结果\n",
    "y_pre = DT.predict(X_test)"
   ]
  },
  {
   "cell_type": "code",
   "execution_count": 272,
   "metadata": {},
   "outputs": [],
   "source": [
    "#评价预测结果\n",
    "from sklearn.metrics import make_scorer\n",
    "from sklearn.model_selection import cross_val_score"
   ]
  },
  {
   "cell_type": "code",
   "execution_count": 273,
   "metadata": {},
   "outputs": [],
   "source": [
    "# Error calculating function according to kaggle\n",
    "def rmspe(y, y_pre):\n",
    "    return np.sqrt(np.mean(((y - y_pre) / y) ** 2))\n",
    "\n",
    "rmpse_scorer = make_scorer(rmspe, greater_is_better = False) # Loss function\n",
    "\n",
    "def score(model, X_train, y_train, y_test, y_pre):\n",
    "    score = cross_val_score(model, X_train, y_train, scoring=rmpse_scorer, cv=5)\n",
    "    print('Mean', score.mean())\n",
    "    print('Variance', score.var())\n",
    "    print('RMSPE', rmspe(y_test, y_pre))\n",
    "\n",
    "def plot_importance(model):\n",
    "    k = list(zip(X, model.feature_importances_))\n",
    "    k.sort(key=lambda tup: tup[1])\n",
    "\n",
    "    labels, vals = zip(*k)\n",
    "    \n",
    "    plt.barh(np.arange(len(X)), vals, align='center')\n",
    "    plt.yticks(np.arange(len(X)), labels)"
   ]
  },
  {
   "cell_type": "code",
   "execution_count": 274,
   "metadata": {},
   "outputs": [
    {
     "name": "stdout",
     "output_type": "stream",
     "text": [
      "Mean -0.21691728928480733\n",
      "Variance 0.0024262471401925666\n",
      "RMSPE 0.1728988082973824\n"
     ]
    }
   ],
   "source": [
    "score(DT, X_train, y_train, y_test, y_pre)\n"
   ]
  },
  {
   "cell_type": "code",
   "execution_count": 275,
   "metadata": {},
   "outputs": [
    {
     "data": {
      "image/png": "[encoded data removed]",
      "text/plain": [
       "<Figure size 432x288 with 1 Axes>"
      ]
     },
     "metadata": {},
     "output_type": "display_data"
    }
   ],
   "source": [
    "plot_importance(DT)\n"
   ]
  },
  {
   "cell_type": "markdown",
   "metadata": {},
   "source": [
    "## 使用 Adaboost 模型训练测试"
   ]
  },
  {
   "cell_type": "code",
   "execution_count": 250,
   "metadata": {},
   "outputs": [
    {
     "name": "stdout",
     "output_type": "stream",
     "text": [
      "Mean -0.18654545091047678\n",
      "Variance 0.00355480163225635\n",
      "RMSPE 0.13446249158045276\n"
     ]
    }
   ],
   "source": [
    "from sklearn.ensemble import AdaBoostRegressor\n",
    "from sklearn.tree import DecisionTreeRegressor\n",
    "\n",
    "Ada_DT = AdaBoostRegressor(DecisionTreeRegressor())\n",
    "\n",
    "Ada_DT.fit(X_train,y_train)\n",
    "y_pre = Ada_DT.predict(X_test)\n",
    "\n",
    "score(Ada_DT,X_train,y_train,y_test,y_pre)"
   ]
  },
  {
   "cell_type": "code",
   "execution_count": 276,
   "metadata": {},
   "outputs": [
    {
     "name": "stdout",
     "output_type": "stream",
     "text": [
      "Id 唯一值数量: 41088\n",
      "Store 唯一值数量: 856\n",
      "DayOfWeek 唯一值数量: 7\n",
      "Date 唯一值数量: 48\n",
      "Open 唯一值数量: 3\n",
      "Promo 唯一值数量: 2\n",
      "StateHoliday 唯一值数量: 2\n",
      "SchoolHoliday 唯一值数量: 2\n"
     ]
    }
   ],
   "source": [
    "for feature in test:\n",
    "    print('{} 唯一值数量:'.format(feature),len(test[feature].unique()))"
   ]
  },
  {
   "cell_type": "code",
   "execution_count": 277,
   "metadata": {},
   "outputs": [
    {
     "data": {
      "text/plain": [
       "array([ 1., nan,  0.])"
      ]
     },
     "execution_count": 277,
     "metadata": {},
     "output_type": "execute_result"
    }
   ],
   "source": [
    "test.Open.unique()"
   ]
  },
  {
   "cell_type": "code",
   "execution_count": 278,
   "metadata": {},
   "outputs": [],
   "source": [
    "#test中的NaN用1填充。一定要营业的商店才有预测的意义\n",
    "test.fillna(1,inplace = True)"
   ]
  },
  {
   "cell_type": "code",
   "execution_count": 279,
   "metadata": {},
   "outputs": [
    {
     "data": {
      "text/plain": [
       "array([1., 0.])"
      ]
     },
     "execution_count": 279,
     "metadata": {},
     "output_type": "execute_result"
    }
   ],
   "source": [
    "test.Open.unique()"
   ]
  },
  {
   "cell_type": "markdown",
   "metadata": {},
   "source": [
    "## 重新整理跟新 store_new 数据集\n",
    "\n",
    "1. 因为在上面 create_feature 函数中，对 store_new 已经进行过一次独热编码\n",
    "2. 如果再次调用 create_feature 函数，不跟新 store_new 的值，就会报错\n",
    "3. 另外一种方法就是 \n",
    "\n",
    "    Reverse_OHM = {0:'0',1:'a',2:'b',3:'c',4:'d'}\n",
    "    \n",
    "    store_new.StoreType.replace(Reverse_OHM,inplace = True)\n",
    "    \n",
    "    store_new.Assortment.replace(Reverse_OHM,inplace = True)"
   ]
  },
  {
   "cell_type": "code",
   "execution_count": 280,
   "metadata": {},
   "outputs": [],
   "source": [
    "# 重新读入 store数据\n",
    "store = pd.read_csv(\"inputs/store.csv\")"
   ]
  },
  {
   "cell_type": "code",
   "execution_count": 281,
   "metadata": {},
   "outputs": [],
   "source": [
    "#store中的NaN用0填充,表示没有竞争或者没有没有促销\n",
    "\n",
    "store.fillna(0,inplace = True)"
   ]
  },
  {
   "cell_type": "markdown",
   "metadata": {},
   "source": [
    "### store 数据集中增加平均值"
   ]
  },
  {
   "cell_type": "code",
   "execution_count": 288,
   "metadata": {},
   "outputs": [
    {
     "data": {
      "text/html": [
       "<div>\n",
       "<style scoped>\n",
       "    .dataframe tbody tr th:only-of-type {\n",
       "        vertical-align: middle;\n",
       "    }\n",
       "\n",
       "    .dataframe tbody tr th {\n",
       "        vertical-align: top;\n",
       "    }\n",
       "\n",
       "    .dataframe thead th {\n",
       "        text-align: right;\n",
       "    }\n",
       "</style>\n",
       "<table border=\"1\" class=\"dataframe\">\n",
       "  <thead>\n",
       "    <tr style=\"text-align: right;\">\n",
       "      <th></th>\n",
       "      <th>Store</th>\n",
       "      <th>AvgSales</th>\n",
       "      <th>AvgCustomers</th>\n",
       "      <th>AvgSalesPerCustomer</th>\n",
       "      <th>StoreType</th>\n",
       "      <th>Assortment</th>\n",
       "      <th>CompetitionDistance</th>\n",
       "      <th>CompetitionOpenSinceMonth</th>\n",
       "      <th>CompetitionOpenSinceYear</th>\n",
       "      <th>Promo2</th>\n",
       "      <th>Promo2SinceWeek</th>\n",
       "      <th>Promo2SinceYear</th>\n",
       "      <th>PromoInterval</th>\n",
       "    </tr>\n",
       "  </thead>\n",
       "  <tbody>\n",
       "    <tr>\n",
       "      <th>0</th>\n",
       "      <td>1</td>\n",
       "      <td>4759.096031</td>\n",
       "      <td>564.049936</td>\n",
       "      <td>8.393038</td>\n",
       "      <td>c</td>\n",
       "      <td>a</td>\n",
       "      <td>1270.0</td>\n",
       "      <td>9.0</td>\n",
       "      <td>2008.0</td>\n",
       "      <td>0</td>\n",
       "      <td>0.0</td>\n",
       "      <td>0.0</td>\n",
       "      <td>0</td>\n",
       "    </tr>\n",
       "    <tr>\n",
       "      <th>1</th>\n",
       "      <td>2</td>\n",
       "      <td>4953.900510</td>\n",
       "      <td>583.998724</td>\n",
       "      <td>8.408443</td>\n",
       "      <td>a</td>\n",
       "      <td>a</td>\n",
       "      <td>570.0</td>\n",
       "      <td>11.0</td>\n",
       "      <td>2007.0</td>\n",
       "      <td>1</td>\n",
       "      <td>13.0</td>\n",
       "      <td>2010.0</td>\n",
       "      <td>Jan,Apr,Jul,Oct</td>\n",
       "    </tr>\n",
       "    <tr>\n",
       "      <th>2</th>\n",
       "      <td>3</td>\n",
       "      <td>6942.568678</td>\n",
       "      <td>750.077022</td>\n",
       "      <td>9.117599</td>\n",
       "      <td>a</td>\n",
       "      <td>a</td>\n",
       "      <td>14130.0</td>\n",
       "      <td>12.0</td>\n",
       "      <td>2006.0</td>\n",
       "      <td>1</td>\n",
       "      <td>14.0</td>\n",
       "      <td>2011.0</td>\n",
       "      <td>Jan,Apr,Jul,Oct</td>\n",
       "    </tr>\n",
       "    <tr>\n",
       "      <th>3</th>\n",
       "      <td>4</td>\n",
       "      <td>9638.401786</td>\n",
       "      <td>1321.752551</td>\n",
       "      <td>7.249827</td>\n",
       "      <td>c</td>\n",
       "      <td>c</td>\n",
       "      <td>620.0</td>\n",
       "      <td>9.0</td>\n",
       "      <td>2009.0</td>\n",
       "      <td>0</td>\n",
       "      <td>0.0</td>\n",
       "      <td>0.0</td>\n",
       "      <td>0</td>\n",
       "    </tr>\n",
       "    <tr>\n",
       "      <th>4</th>\n",
       "      <td>5</td>\n",
       "      <td>4676.274711</td>\n",
       "      <td>537.340180</td>\n",
       "      <td>8.611229</td>\n",
       "      <td>a</td>\n",
       "      <td>a</td>\n",
       "      <td>29910.0</td>\n",
       "      <td>4.0</td>\n",
       "      <td>2015.0</td>\n",
       "      <td>0</td>\n",
       "      <td>0.0</td>\n",
       "      <td>0.0</td>\n",
       "      <td>0</td>\n",
       "    </tr>\n",
       "  </tbody>\n",
       "</table>\n",
       "</div>"
      ],
      "text/plain": [
       "   Store     AvgSales  AvgCustomers  AvgSalesPerCustomer StoreType Assortment  \\\n",
       "0      1  4759.096031    564.049936             8.393038         c          a   \n",
       "1      2  4953.900510    583.998724             8.408443         a          a   \n",
       "2      3  6942.568678    750.077022             9.117599         a          a   \n",
       "3      4  9638.401786   1321.752551             7.249827         c          c   \n",
       "4      5  4676.274711    537.340180             8.611229         a          a   \n",
       "\n",
       "   CompetitionDistance  CompetitionOpenSinceMonth  CompetitionOpenSinceYear  \\\n",
       "0               1270.0                        9.0                    2008.0   \n",
       "1                570.0                       11.0                    2007.0   \n",
       "2              14130.0                       12.0                    2006.0   \n",
       "3                620.0                        9.0                    2009.0   \n",
       "4              29910.0                        4.0                    2015.0   \n",
       "\n",
       "   Promo2  Promo2SinceWeek  Promo2SinceYear    PromoInterval  \n",
       "0       0              0.0              0.0                0  \n",
       "1       1             13.0           2010.0  Jan,Apr,Jul,Oct  \n",
       "2       1             14.0           2011.0  Jan,Apr,Jul,Oct  \n",
       "3       0              0.0              0.0                0  \n",
       "4       0              0.0              0.0                0  "
      ]
     },
     "execution_count": 288,
     "metadata": {},
     "output_type": "execute_result"
    }
   ],
   "source": [
    "store_new = pd.merge(store_avg.reset_index(),store,on='Store')\n",
    "\n",
    "store_new.head()"
   ]
  },
  {
   "cell_type": "code",
   "execution_count": 289,
   "metadata": {},
   "outputs": [],
   "source": [
    "check_test = pd.merge(test,store_new,on='Store',how ='left')\n"
   ]
  },
  {
   "cell_type": "code",
   "execution_count": 290,
   "metadata": {},
   "outputs": [
    {
     "name": "stdout",
     "output_type": "stream",
     "text": [
      "Id 唯一值数量: 41088\n",
      "Store 唯一值数量: 856\n",
      "DayOfWeek 唯一值数量: 7\n",
      "Date 唯一值数量: 48\n",
      "Open 唯一值数量: 2\n",
      "Promo 唯一值数量: 2\n",
      "StateHoliday 唯一值数量: 2\n",
      "SchoolHoliday 唯一值数量: 2\n",
      "AvgSales 唯一值数量: 856\n",
      "AvgCustomers 唯一值数量: 855\n",
      "AvgSalesPerCustomer 唯一值数量: 856\n",
      "StoreType 唯一值数量: 4\n",
      "Assortment 唯一值数量: 3\n",
      "CompetitionDistance 唯一值数量: 555\n",
      "CompetitionOpenSinceMonth 唯一值数量: 13\n",
      "CompetitionOpenSinceYear 唯一值数量: 24\n",
      "Promo2 唯一值数量: 2\n",
      "Promo2SinceWeek 唯一值数量: 22\n",
      "Promo2SinceYear 唯一值数量: 8\n",
      "PromoInterval 唯一值数量: 4\n"
     ]
    }
   ],
   "source": [
    "for feature in check_test:\n",
    "    print('{} 唯一值数量:'.format(feature),len(check_test[feature].unique()))"
   ]
  },
  {
   "cell_type": "code",
   "execution_count": 291,
   "metadata": {},
   "outputs": [
    {
     "data": {
      "text/html": [
       "<div>\n",
       "<style scoped>\n",
       "    .dataframe tbody tr th:only-of-type {\n",
       "        vertical-align: middle;\n",
       "    }\n",
       "\n",
       "    .dataframe tbody tr th {\n",
       "        vertical-align: top;\n",
       "    }\n",
       "\n",
       "    .dataframe thead th {\n",
       "        text-align: right;\n",
       "    }\n",
       "</style>\n",
       "<table border=\"1\" class=\"dataframe\">\n",
       "  <thead>\n",
       "    <tr style=\"text-align: right;\">\n",
       "      <th></th>\n",
       "      <th>Id</th>\n",
       "      <th>Store</th>\n",
       "      <th>DayOfWeek</th>\n",
       "      <th>Date</th>\n",
       "      <th>Open</th>\n",
       "      <th>Promo</th>\n",
       "      <th>StateHoliday</th>\n",
       "      <th>SchoolHoliday</th>\n",
       "      <th>AvgSales</th>\n",
       "      <th>AvgCustomers</th>\n",
       "      <th>...</th>\n",
       "      <th>CompetitionOpenSinceYear</th>\n",
       "      <th>Promo2</th>\n",
       "      <th>Promo2SinceWeek</th>\n",
       "      <th>Promo2SinceYear</th>\n",
       "      <th>PromoInterval</th>\n",
       "      <th>year</th>\n",
       "      <th>month</th>\n",
       "      <th>day</th>\n",
       "      <th>CompetitionExistMonth</th>\n",
       "      <th>Promo2ExistWeek</th>\n",
       "    </tr>\n",
       "  </thead>\n",
       "  <tbody>\n",
       "    <tr>\n",
       "      <th>0</th>\n",
       "      <td>1</td>\n",
       "      <td>1</td>\n",
       "      <td>4</td>\n",
       "      <td>2015-09-17</td>\n",
       "      <td>1.0</td>\n",
       "      <td>1</td>\n",
       "      <td>0</td>\n",
       "      <td>0</td>\n",
       "      <td>4759.096031</td>\n",
       "      <td>564.049936</td>\n",
       "      <td>...</td>\n",
       "      <td>2008.0</td>\n",
       "      <td>0</td>\n",
       "      <td>0.0</td>\n",
       "      <td>0.0</td>\n",
       "      <td>0</td>\n",
       "      <td>2015</td>\n",
       "      <td>9</td>\n",
       "      <td>17</td>\n",
       "      <td>84.0</td>\n",
       "      <td>0.0</td>\n",
       "    </tr>\n",
       "    <tr>\n",
       "      <th>1</th>\n",
       "      <td>2</td>\n",
       "      <td>3</td>\n",
       "      <td>4</td>\n",
       "      <td>2015-09-17</td>\n",
       "      <td>1.0</td>\n",
       "      <td>1</td>\n",
       "      <td>0</td>\n",
       "      <td>0</td>\n",
       "      <td>6942.568678</td>\n",
       "      <td>750.077022</td>\n",
       "      <td>...</td>\n",
       "      <td>2006.0</td>\n",
       "      <td>1</td>\n",
       "      <td>14.0</td>\n",
       "      <td>2011.0</td>\n",
       "      <td>Jan,Apr,Jul,Oct</td>\n",
       "      <td>2015</td>\n",
       "      <td>9</td>\n",
       "      <td>17</td>\n",
       "      <td>105.0</td>\n",
       "      <td>232.0</td>\n",
       "    </tr>\n",
       "    <tr>\n",
       "      <th>2</th>\n",
       "      <td>3</td>\n",
       "      <td>7</td>\n",
       "      <td>4</td>\n",
       "      <td>2015-09-17</td>\n",
       "      <td>1.0</td>\n",
       "      <td>1</td>\n",
       "      <td>0</td>\n",
       "      <td>0</td>\n",
       "      <td>8817.050891</td>\n",
       "      <td>948.561069</td>\n",
       "      <td>...</td>\n",
       "      <td>2013.0</td>\n",
       "      <td>0</td>\n",
       "      <td>0.0</td>\n",
       "      <td>0.0</td>\n",
       "      <td>0</td>\n",
       "      <td>2015</td>\n",
       "      <td>9</td>\n",
       "      <td>17</td>\n",
       "      <td>29.0</td>\n",
       "      <td>0.0</td>\n",
       "    </tr>\n",
       "    <tr>\n",
       "      <th>3</th>\n",
       "      <td>4</td>\n",
       "      <td>8</td>\n",
       "      <td>4</td>\n",
       "      <td>2015-09-17</td>\n",
       "      <td>1.0</td>\n",
       "      <td>1</td>\n",
       "      <td>0</td>\n",
       "      <td>0</td>\n",
       "      <td>5539.358418</td>\n",
       "      <td>658.197704</td>\n",
       "      <td>...</td>\n",
       "      <td>2014.0</td>\n",
       "      <td>0</td>\n",
       "      <td>0.0</td>\n",
       "      <td>0.0</td>\n",
       "      <td>0</td>\n",
       "      <td>2015</td>\n",
       "      <td>9</td>\n",
       "      <td>17</td>\n",
       "      <td>11.0</td>\n",
       "      <td>0.0</td>\n",
       "    </tr>\n",
       "    <tr>\n",
       "      <th>4</th>\n",
       "      <td>5</td>\n",
       "      <td>9</td>\n",
       "      <td>4</td>\n",
       "      <td>2015-09-17</td>\n",
       "      <td>1.0</td>\n",
       "      <td>1</td>\n",
       "      <td>0</td>\n",
       "      <td>0</td>\n",
       "      <td>6562.337612</td>\n",
       "      <td>579.816431</td>\n",
       "      <td>...</td>\n",
       "      <td>2000.0</td>\n",
       "      <td>0</td>\n",
       "      <td>0.0</td>\n",
       "      <td>0.0</td>\n",
       "      <td>0</td>\n",
       "      <td>2015</td>\n",
       "      <td>9</td>\n",
       "      <td>17</td>\n",
       "      <td>181.0</td>\n",
       "      <td>0.0</td>\n",
       "    </tr>\n",
       "  </tbody>\n",
       "</table>\n",
       "<p>5 rows × 25 columns</p>\n",
       "</div>"
      ],
      "text/plain": [
       "   Id  Store  DayOfWeek       Date  Open  Promo  StateHoliday  SchoolHoliday  \\\n",
       "0   1      1          4 2015-09-17   1.0      1             0              0   \n",
       "1   2      3          4 2015-09-17   1.0      1             0              0   \n",
       "2   3      7          4 2015-09-17   1.0      1             0              0   \n",
       "3   4      8          4 2015-09-17   1.0      1             0              0   \n",
       "4   5      9          4 2015-09-17   1.0      1             0              0   \n",
       "\n",
       "      AvgSales  AvgCustomers       ...        CompetitionOpenSinceYear  \\\n",
       "0  4759.096031    564.049936       ...                          2008.0   \n",
       "1  6942.568678    750.077022       ...                          2006.0   \n",
       "2  8817.050891    948.561069       ...                          2013.0   \n",
       "3  5539.358418    658.197704       ...                          2014.0   \n",
       "4  6562.337612    579.816431       ...                          2000.0   \n",
       "\n",
       "   Promo2  Promo2SinceWeek  Promo2SinceYear    PromoInterval  year  month  \\\n",
       "0       0              0.0              0.0                0  2015      9   \n",
       "1       1             14.0           2011.0  Jan,Apr,Jul,Oct  2015      9   \n",
       "2       0              0.0              0.0                0  2015      9   \n",
       "3       0              0.0              0.0                0  2015      9   \n",
       "4       0              0.0              0.0                0  2015      9   \n",
       "\n",
       "   day  CompetitionExistMonth Promo2ExistWeek  \n",
       "0   17                   84.0             0.0  \n",
       "1   17                  105.0           232.0  \n",
       "2   17                   29.0             0.0  \n",
       "3   17                   11.0             0.0  \n",
       "4   17                  181.0             0.0  \n",
       "\n",
       "[5 rows x 25 columns]"
      ]
     },
     "execution_count": 291,
     "metadata": {},
     "output_type": "execute_result"
    }
   ],
   "source": [
    "\n",
    "#执行顺序导致需要多test进行反编码\n",
    "\n",
    "Reverse_OHM = {0:'0',1:'a',2:'b',3:'c',4:'d'}\n",
    "\n",
    "test.StateHoliday.replace(Reverse_OHM,inplace = True)\n",
    "\n",
    "#真正test集上进行结果测试\n",
    "\n",
    "test_feature = creat_feature(test,store_new)\n",
    "\n",
    "\n",
    "test_feature.head()"
   ]
  },
  {
   "cell_type": "code",
   "execution_count": null,
   "metadata": {},
   "outputs": [],
   "source": [
    "#check_test.StoreType.unique()"
   ]
  },
  {
   "cell_type": "code",
   "execution_count": null,
   "metadata": {},
   "outputs": [],
   "source": [
    "#check_test.Assortment.unique()"
   ]
  },
  {
   "cell_type": "code",
   "execution_count": null,
   "metadata": {},
   "outputs": [],
   "source": [
    "#check_test.StateHoliday.unique()"
   ]
  },
  {
   "cell_type": "code",
   "execution_count": 292,
   "metadata": {},
   "outputs": [],
   "source": [
    "#输出结果\n",
    "\n",
    "y_test_pre = Ada_DT.predict(test_feature[X])\n"
   ]
  },
  {
   "cell_type": "code",
   "execution_count": 293,
   "metadata": {},
   "outputs": [],
   "source": [
    "# 将实际测试集的结果输出\n",
    "\n",
    "df = pd.DataFrame({\"Id\":range(1,len(test) + 1),'Sales':y_test_pre})\n",
    "df.to_csv('submission_Ada.csv',index = False)"
   ]
  }
 ],
 "metadata": {
  "kernelspec": {
   "display_name": "Python 3",
   "language": "python",
   "name": "python3"
  },
  "language_info": {
   "codemirror_mode": {
    "name": "ipython",
    "version": 3
   },
   "file_extension": ".py",
   "mimetype": "text/x-python",
   "name": "python",
   "nbconvert_exporter": "python",
   "pygments_lexer": "ipython3",
   "version": "3.6.5"
  }
 },
 "nbformat": 4,
 "nbformat_minor": 2
}
